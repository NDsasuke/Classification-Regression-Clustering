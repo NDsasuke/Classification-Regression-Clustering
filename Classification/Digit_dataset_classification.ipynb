{
  "nbformat": 4,
  "nbformat_minor": 0,
  "metadata": {
    "colab": {
      "provenance": [],
      "authorship_tag": "ABX9TyOZY2ylDPY/8JBNT0q7vUPo",
      "include_colab_link": true
    },
    "kernelspec": {
      "name": "python3",
      "display_name": "Python 3"
    },
    "language_info": {
      "name": "python"
    }
  },
  "cells": [
    {
      "cell_type": "markdown",
      "metadata": {
        "id": "view-in-github",
        "colab_type": "text"
      },
      "source": [
        "<a href=\"https://colab.research.google.com/github/NDsasuke/Classification-Regression-Clustering/blob/main/Classification/Digit_dataset_classification.ipynb\" target=\"_parent\"><img src=\"https://colab.research.google.com/assets/colab-badge.svg\" alt=\"Open In Colab\"/></a>"
      ]
    },
    {
      "cell_type": "code",
      "execution_count": 1,
      "metadata": {
        "id": "9CT1pAD79yqx"
      },
      "outputs": [],
      "source": [
        "from matplotlib import pyplot as plt #plotting library (lets us draw graphs)\n",
        "%matplotlib inline\n",
        "\n",
        "from sklearn import datasets #the datasets from sklearn\n",
        "\n",
        "\n",
        "digits = datasets.load_digits() #load the digits into the variable 'digits'"
      ]
    },
    {
      "cell_type": "code",
      "source": [
        "digits.data.shape"
      ],
      "metadata": {
        "colab": {
          "base_uri": "https://localhost:8080/"
        },
        "id": "JRPuFp4G92yX",
        "outputId": "0f5aa206-f5e3-4b9b-99a5-2fc8a43d9e33"
      },
      "execution_count": 2,
      "outputs": [
        {
          "output_type": "execute_result",
          "data": {
            "text/plain": [
              "(1797, 64)"
            ]
          },
          "metadata": {},
          "execution_count": 2
        }
      ]
    },
    {
      "cell_type": "code",
      "source": [
        "digits.data[35,:]"
      ],
      "metadata": {
        "colab": {
          "base_uri": "https://localhost:8080/"
        },
        "id": "O5jd9pHB96R1",
        "outputId": "fce7ec24-800a-49bb-ba53-48da7f607164"
      },
      "execution_count": 3,
      "outputs": [
        {
          "output_type": "execute_result",
          "data": {
            "text/plain": [
              "array([ 0.,  3., 15.,  8.,  8.,  6.,  0.,  0.,  0.,  4., 16., 16., 16.,\n",
              "       13.,  2.,  0.,  0.,  3., 16.,  9.,  2.,  0.,  0.,  0.,  0.,  2.,\n",
              "       16., 16., 15.,  3.,  0.,  0.,  0.,  0.,  7.,  6., 12.,  9.,  0.,\n",
              "        0.,  0.,  0.,  0.,  1., 14., 10.,  0.,  0.,  0.,  0.,  5., 14.,\n",
              "       15.,  2.,  0.,  0.,  0.,  1., 15., 14.,  1.,  0.,  0.,  0.])"
            ]
          },
          "metadata": {},
          "execution_count": 3
        }
      ]
    },
    {
      "cell_type": "code",
      "source": [
        "#code to reshape the 64 numbers into an 8x8 matrix and then draw it\n",
        "plt.matshow(digits.data[35,:].reshape(8,8),cmap='gray')"
      ],
      "metadata": {
        "colab": {
          "base_uri": "https://localhost:8080/",
          "height": 454
        },
        "id": "JYKM_NYi-Brv",
        "outputId": "153e2b4b-3f7e-463c-c4b7-bcfa4d0a326f"
      },
      "execution_count": 4,
      "outputs": [
        {
          "output_type": "execute_result",
          "data": {
            "text/plain": [
              "<matplotlib.image.AxesImage at 0x7f6e15498df0>"
            ]
          },
          "metadata": {},
          "execution_count": 4
        },
        {
          "output_type": "display_data",
          "data": {
            "text/plain": [
              "<Figure size 480x480 with 1 Axes>"
            ],
            "image/png": "[encoded data removed]"
          },
          "metadata": {}
        }
      ]
    },
    {
      "cell_type": "code",
      "source": [
        "digits.target[35]"
      ],
      "metadata": {
        "colab": {
          "base_uri": "https://localhost:8080/"
        },
        "id": "pAlwUZQv-hpM",
        "outputId": "d181eafc-5646-49c2-e3d9-42555a0bac73"
      },
      "execution_count": 5,
      "outputs": [
        {
          "output_type": "execute_result",
          "data": {
            "text/plain": [
              "5"
            ]
          },
          "metadata": {},
          "execution_count": 5
        }
      ]
    },
    {
      "cell_type": "code",
      "source": [
        "plt.hist(digits.data[35,:],bins=range(11))"
      ],
      "metadata": {
        "colab": {
          "base_uri": "https://localhost:8080/",
          "height": 482
        },
        "id": "qvVEDqBa-tsd",
        "outputId": "4ffe69d0-8537-4e1f-d8e4-a53a7cbe7761"
      },
      "execution_count": 7,
      "outputs": [
        {
          "output_type": "execute_result",
          "data": {
            "text/plain": [
              "(array([29.,  3.,  4.,  3.,  1.,  1.,  2.,  1.,  2.,  3.]),\n",
              " array([ 0.,  1.,  2.,  3.,  4.,  5.,  6.,  7.,  8.,  9., 10.]),\n",
              " <BarContainer object of 10 artists>)"
            ]
          },
          "metadata": {},
          "execution_count": 7
        },
        {
          "output_type": "display_data",
          "data": {
            "text/plain": [
              "<Figure size 640x480 with 1 Axes>"
            ],
            "image/png": "[encoded data removed]"
          },
          "metadata": {}
        }
      ]
    },
    {
      "cell_type": "code",
      "source": [
        "training_data = digits.data[0:-10,:] #this means all but the last 10 rows should be put in training_data\n",
        "training_target = digits.target[0:-10] #this puts all but the last 10 elements of the labels (targets) into training_target\n",
        "\n",
        "#similarly this takes the last digit and puts that in test_data and test_target\n",
        "test_data = digits.data[-10:,:]\n",
        "test_target = digits.target[-10:]"
      ],
      "metadata": {
        "id": "ytiuUwTF--AA"
      },
      "execution_count": 8,
      "outputs": []
    },
    {
      "cell_type": "code",
      "source": [
        "from sklearn import neighbors #import the library that we need\n",
        "nn = neighbors.KNeighborsClassifier(n_neighbors=1) #this is our model (with just one nearest neighbour)\n",
        "nn.fit(training_data,training_target); #fit our model to the training data"
      ],
      "metadata": {
        "id": "g1mO6sfZ_Dts"
      },
      "execution_count": 9,
      "outputs": []
    },
    {
      "cell_type": "code",
      "source": [
        "nn.predict(test_data)"
      ],
      "metadata": {
        "colab": {
          "base_uri": "https://localhost:8080/"
        },
        "id": "ks7S0h4B_ISP",
        "outputId": "98f488b8-4360-46ad-b367-6036a2492d96"
      },
      "execution_count": 10,
      "outputs": [
        {
          "output_type": "execute_result",
          "data": {
            "text/plain": [
              "array([5, 4, 8, 1, 4, 9, 0, 8, 9, 8])"
            ]
          },
          "metadata": {},
          "execution_count": 10
        }
      ]
    },
    {
      "cell_type": "code",
      "source": [
        "test_target"
      ],
      "metadata": {
        "colab": {
          "base_uri": "https://localhost:8080/"
        },
        "id": "zSE3Cjj3_NFI",
        "outputId": "3ad82afd-9e47-48f7-af15-df34bdcbc35d"
      },
      "execution_count": 11,
      "outputs": [
        {
          "output_type": "execute_result",
          "data": {
            "text/plain": [
              "array([5, 4, 8, 8, 4, 9, 0, 8, 9, 8])"
            ]
          },
          "metadata": {},
          "execution_count": 11
        }
      ]
    },
    {
      "cell_type": "code",
      "source": [
        "plt.matshow(test_data[3].reshape(8,8),cmap='gray')"
      ],
      "metadata": {
        "colab": {
          "base_uri": "https://localhost:8080/",
          "height": 454
        },
        "id": "7lAo3_-__Qd1",
        "outputId": "9c856c55-5e7a-43bb-c294-09f7ea27806a"
      },
      "execution_count": 12,
      "outputs": [
        {
          "output_type": "execute_result",
          "data": {
            "text/plain": [
              "<matplotlib.image.AxesImage at 0x7f6e12a558d0>"
            ]
          },
          "metadata": {},
          "execution_count": 12
        },
        {
          "output_type": "display_data",
          "data": {
            "text/plain": [
              "<Figure size 480x480 with 1 Axes>"
            ],
            "image/png": "[encoded data removed]"
          },
          "metadata": {}
        }
      ]
    },
    {
      "cell_type": "code",
      "source": [
        "import numpy as np\n",
        "\n",
        "#classification libraries\n",
        "from sklearn import neighbors\n",
        "from sklearn import svm\n",
        "from sklearn import naive_bayes\n",
        "from sklearn import tree\n",
        "from sklearn import ensemble\n",
        "\n",
        "from sklearn.model_selection import KFold\n",
        "\n",
        "#prepare k-fold cross validation\n",
        "kf = KFold(n_splits=5)\n",
        "\n",
        "#variables to count up how many we got right\n",
        "tally_correct = 0\n",
        "tally_total = 0\n",
        "for train_index, test_index in kf.split(digits.data):\n",
        "    #here we split the dataset up into training and test sets, these change each iteration\n",
        "    training_data = digits.data[train_index,:] \n",
        "    training_target = digits.target[train_index] \n",
        "    test_data = digits.data[test_index,:]\n",
        "    test_target = digits.target[test_index]\n",
        "    \n",
        "    # Uncomment one of these classifiers to see how it does\n",
        "    #csf = tree.DecisionTreeClassifier()\n",
        "    #csf = ensemble.RandomForestClassifier(n_estimators=50, min_samples_split=1, max_depth=None, max_features=16)\n",
        "    #csf = ensemble.ExtraTreesClassifier(n_estimators=100, min_samples_split=1, max_depth=None, max_features=8)\n",
        "    csf = neighbors.KNeighborsClassifier(n_neighbors=1)\n",
        "    #csf= svm.LinearSVC(C=0.05) #Linear Support Vector Machine classifier\n",
        "    #csf = naive_bayes.GaussianNB()\n",
        "    \n",
        "    csf.fit(training_data,training_target)\n",
        "    \n",
        "    predictions = csf.predict(test_data)\n",
        "    number_correct = np.sum(predictions==test_target)\n",
        "    total_number = len(predictions)\n",
        "    print(\"%d of %d correct\" % (number_correct,total_number))\n",
        "    tally_correct += number_correct\n",
        "    tally_total += total_number\n",
        "print (\" \")\n",
        "print (\"Total: %d of %d correct (%0.2f%%)\" % (tally_correct, tally_total, 100.0*tally_correct/tally_total))"
      ],
      "metadata": {
        "colab": {
          "base_uri": "https://localhost:8080/"
        },
        "id": "j2_HSwnz_WjL",
        "outputId": "908624c2-6916-4ae0-8a98-905d4f121ab2"
      },
      "execution_count": 17,
      "outputs": [
        {
          "output_type": "stream",
          "name": "stdout",
          "text": [
            "346 of 360 correct\n",
            "343 of 360 correct\n",
            "347 of 359 correct\n",
            "355 of 359 correct\n",
            "343 of 359 correct\n",
            " \n",
            "Total: 1734 of 1797 correct (96.49%)\n"
          ]
        }
      ]
    }
  ]
}